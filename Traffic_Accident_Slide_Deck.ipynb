{
 "cells": [
  {
   "cell_type": "markdown",
   "metadata": {
    "slideshow": {
     "slide_type": "slide"
    }
   },
   "source": [
    "#  Los Angeles Traffic Collision Data\n",
    "\n"
   ]
  },
  {
   "cell_type": "markdown",
   "metadata": {
    "slideshow": {
     "slide_type": "skip"
    }
   },
   "source": [
    "#### This dataset reflects traffic collision incidents in the City of Los Angeles dating back to 2010. This data is transcribed from original traffic reports that are typed on paper and therefore there may be some inaccuracies within the data. Some location fields with missing data are noted as (0°, 0°). Address fields are only provided to the nearest hundred block in order to maintain privacy. This data is as accurate as the data in the database. Please note questions or concerns in the comments.\n",
    "\n",
    "#### Kaggle :https://www.kaggle.com/cityofLA/los-angeles-traffic-collision-data\n",
    "- DR NumberDivision of Records Number: Official file number made up of a 2 digit year, area ID, and 5 digits.\n",
    "- Date ReportedMM/DD/YYYY\n",
    "- Date OccurredMM/DD/YYYY\n",
    "- Time OccurredIn 24 hour military time.\n",
    "- Area IDThe LAPD has 21 Community Police Stations referred to as Geographic Areas within the department. These Geographic Areas are sequentially numbered from 1-21.\n",
    "Area NameThe 21 Geographic Areas or Patrol Divisions are also given a name designation that references a landmark or the surrounding community that it is responsible for. For example 77th Street Division is located at the intersection of South Broadway and 77th Street, serving neighborhoods in South Los Angeles.\n",
    "Reporting DistrictA code used in producing reports to group data into geographic sub-areas within an area. \n",
    "- Crime Code : Indicates the crime committed. For this dataset - all Crime Code 997.\n",
    "Crime Code DescriptionDefines the Crime Code provided. For this dataset - all Traffic Collision.\n",
    "- MO CodesModus Operandi: Activities associated with the suspect in commission of the crime. See attached PDF for list of MO Codes in numerical order. https://data.lacity.org/api/views/y8tr-7khq/files/3a967fbd-f210-4857-bc52-60230efe256c?download=true&filename=MO%20CODES%20(numerical%20order).pdf\n",
    "- Victim Age :Two character numeric.\n",
    "- Victim Sex : F - Female,M - Male,X - Unknown\n",
    "- Victim Descent :Descent Code: A - Other Asian B - Black C - Chinese D - Cambodian F - Filipino G - Guamanian H - Hispanic/Latin/Mexican I - American Indian/Alaskan Native J - Japanese K - Korean L - Laotian O - Other P - Pacific Islander S - Samoan U - Hawaiian V - Vietnamese W - White X - Unknown Z - Asian Indian\n",
    "- Premise CodeThe type of structure or location where the incident took place.\n",
    "- Premise Description : Defines the Premise Code provided.\n",
    "- AddressStreet address of crime incident rounded to the nearest hundred block to maintain anonymity.\n",
    "Cross StreetCross Street of rounded Address.\n",
    "LocationThe location where the crime incident occurred. Actual address is omitted for confidentiality. XY coordinates reflect the nearest 100 block.\n",
    "- Zip Codes\n",
    "- Census Tracts\n",
    "- Precinct Boundaries\n",
    "- LA Specific Plans\n",
    "- Council Districts\n",
    "- Neighborhood Councils (Certified)"
   ]
  },
  {
   "cell_type": "code",
   "execution_count": 269,
   "metadata": {
    "slideshow": {
     "slide_type": "skip"
    }
   },
   "outputs": [
    {
     "data": {
      "text/plain": [
       "'C:\\\\Users\\\\Lenovo'"
      ]
     },
     "execution_count": 269,
     "metadata": {},
     "output_type": "execute_result"
    }
   ],
   "source": [
    "pwd"
   ]
  },
  {
   "cell_type": "code",
   "execution_count": 224,
   "metadata": {},
   "outputs": [],
   "source": [
    "## Importing libraries\n",
    "import pandas as pd \n",
    "import numpy as np\n",
    "import matplotlib.pyplot as plt\n",
    "% matplotlib inline\n",
    "import seaborn as sb"
   ]
  },
  {
   "cell_type": "code",
   "execution_count": 225,
   "metadata": {},
   "outputs": [],
   "source": [
    "traffic_collision = pd.read_csv('C:/Users/Lenovo/Desktop/udacity/Internship/traffic-collision-data.csv')"
   ]
  },
  {
   "cell_type": "code",
   "execution_count": 226,
   "metadata": {},
   "outputs": [],
   "source": [
    "df = traffic_collision.copy()"
   ]
  },
  {
   "cell_type": "code",
   "execution_count": 227,
   "metadata": {
    "scrolled": true
   },
   "outputs": [
    {
     "data": {
      "text/html": [
       "<div>\n",
       "<style scoped>\n",
       "    .dataframe tbody tr th:only-of-type {\n",
       "        vertical-align: middle;\n",
       "    }\n",
       "\n",
       "    .dataframe tbody tr th {\n",
       "        vertical-align: top;\n",
       "    }\n",
       "\n",
       "    .dataframe thead th {\n",
       "        text-align: right;\n",
       "    }\n",
       "</style>\n",
       "<table border=\"1\" class=\"dataframe\">\n",
       "  <thead>\n",
       "    <tr style=\"text-align: right;\">\n",
       "      <th></th>\n",
       "      <th>DR Number</th>\n",
       "      <th>Date Reported</th>\n",
       "      <th>Date Occurred</th>\n",
       "      <th>Time Occurred</th>\n",
       "      <th>Area ID</th>\n",
       "      <th>Area Name</th>\n",
       "      <th>Reporting District</th>\n",
       "      <th>Crime Code</th>\n",
       "      <th>Crime Code Description</th>\n",
       "      <th>MO Codes</th>\n",
       "      <th>...</th>\n",
       "      <th>Premise Description</th>\n",
       "      <th>Address</th>\n",
       "      <th>Cross Street</th>\n",
       "      <th>Location</th>\n",
       "      <th>Zip Codes</th>\n",
       "      <th>Census Tracts</th>\n",
       "      <th>Precinct Boundaries</th>\n",
       "      <th>LA Specific Plans</th>\n",
       "      <th>Council Districts</th>\n",
       "      <th>Neighborhood Councils (Certified)</th>\n",
       "    </tr>\n",
       "  </thead>\n",
       "  <tbody>\n",
       "    <tr>\n",
       "      <th>0</th>\n",
       "      <td>191010770</td>\n",
       "      <td>2019-06-08T00:00:00.000</td>\n",
       "      <td>2019-06-08T00:00:00.000</td>\n",
       "      <td>1216</td>\n",
       "      <td>10</td>\n",
       "      <td>West Valley</td>\n",
       "      <td>1009</td>\n",
       "      <td>997</td>\n",
       "      <td>TRAFFIC COLLISION</td>\n",
       "      <td>NaN</td>\n",
       "      <td>...</td>\n",
       "      <td>STREET</td>\n",
       "      <td>ROSCOE</td>\n",
       "      <td>HASKELL</td>\n",
       "      <td>{'human_address': '{\"address\": \"\", \"city\": \"\",...</td>\n",
       "      <td>18914.0</td>\n",
       "      <td>121.0</td>\n",
       "      <td>426.0</td>\n",
       "      <td>NaN</td>\n",
       "      <td>2.0</td>\n",
       "      <td>88.0</td>\n",
       "    </tr>\n",
       "    <tr>\n",
       "      <th>1</th>\n",
       "      <td>190711820</td>\n",
       "      <td>2019-06-08T00:00:00.000</td>\n",
       "      <td>2019-06-08T00:00:00.000</td>\n",
       "      <td>1445</td>\n",
       "      <td>7</td>\n",
       "      <td>Wilshire</td>\n",
       "      <td>762</td>\n",
       "      <td>997</td>\n",
       "      <td>TRAFFIC COLLISION</td>\n",
       "      <td>NaN</td>\n",
       "      <td>...</td>\n",
       "      <td>STREET</td>\n",
       "      <td>ALFRED                       ST</td>\n",
       "      <td>PICO                         BL</td>\n",
       "      <td>{'human_address': '{\"address\": \"\", \"city\": \"\",...</td>\n",
       "      <td>23666.0</td>\n",
       "      <td>641.0</td>\n",
       "      <td>1102.0</td>\n",
       "      <td>NaN</td>\n",
       "      <td>12.0</td>\n",
       "      <td>23.0</td>\n",
       "    </tr>\n",
       "    <tr>\n",
       "      <th>2</th>\n",
       "      <td>192011837</td>\n",
       "      <td>2019-06-08T00:00:00.000</td>\n",
       "      <td>2019-06-08T00:00:00.000</td>\n",
       "      <td>1245</td>\n",
       "      <td>20</td>\n",
       "      <td>Olympic</td>\n",
       "      <td>2029</td>\n",
       "      <td>997</td>\n",
       "      <td>TRAFFIC COLLISION</td>\n",
       "      <td>NaN</td>\n",
       "      <td>...</td>\n",
       "      <td>STREET</td>\n",
       "      <td>WILSHIRE</td>\n",
       "      <td>VERMONT</td>\n",
       "      <td>{'human_address': '{\"address\": \"\", \"city\": \"\",...</td>\n",
       "      <td>22726.0</td>\n",
       "      <td>578.0</td>\n",
       "      <td>684.0</td>\n",
       "      <td>NaN</td>\n",
       "      <td>12.0</td>\n",
       "      <td>89.0</td>\n",
       "    </tr>\n",
       "    <tr>\n",
       "      <th>3</th>\n",
       "      <td>190613201</td>\n",
       "      <td>2019-06-08T00:00:00.000</td>\n",
       "      <td>2019-06-08T00:00:00.000</td>\n",
       "      <td>1120</td>\n",
       "      <td>6</td>\n",
       "      <td>Hollywood</td>\n",
       "      <td>645</td>\n",
       "      <td>997</td>\n",
       "      <td>TRAFFIC COLLISION</td>\n",
       "      <td>NaN</td>\n",
       "      <td>...</td>\n",
       "      <td>STREET</td>\n",
       "      <td>HOLLYWOOD                    BL</td>\n",
       "      <td>ORANGE                       DR</td>\n",
       "      <td>{'human_address': '{\"address\": \"\", \"city\": \"\",...</td>\n",
       "      <td>23446.0</td>\n",
       "      <td>414.0</td>\n",
       "      <td>1303.0</td>\n",
       "      <td>NaN</td>\n",
       "      <td>8.0</td>\n",
       "      <td>82.0</td>\n",
       "    </tr>\n",
       "    <tr>\n",
       "      <th>4</th>\n",
       "      <td>191610033</td>\n",
       "      <td>2019-06-08T00:00:00.000</td>\n",
       "      <td>2019-06-08T00:00:00.000</td>\n",
       "      <td>1015</td>\n",
       "      <td>16</td>\n",
       "      <td>Foothill</td>\n",
       "      <td>1653</td>\n",
       "      <td>997</td>\n",
       "      <td>TRAFFIC COLLISION</td>\n",
       "      <td>NaN</td>\n",
       "      <td>...</td>\n",
       "      <td>STREET</td>\n",
       "      <td>ARLETA                       AV</td>\n",
       "      <td>BRANFORD                     ST</td>\n",
       "      <td>{'human_address': '{\"address\": \"\", \"city\": \"\",...</td>\n",
       "      <td>18907.0</td>\n",
       "      <td>34.0</td>\n",
       "      <td>451.0</td>\n",
       "      <td>NaN</td>\n",
       "      <td>1.0</td>\n",
       "      <td>11.0</td>\n",
       "    </tr>\n",
       "  </tbody>\n",
       "</table>\n",
       "<p>5 rows × 24 columns</p>\n",
       "</div>"
      ],
      "text/plain": [
       "   DR Number            Date Reported            Date Occurred  Time Occurred  \\\n",
       "0  191010770  2019-06-08T00:00:00.000  2019-06-08T00:00:00.000           1216   \n",
       "1  190711820  2019-06-08T00:00:00.000  2019-06-08T00:00:00.000           1445   \n",
       "2  192011837  2019-06-08T00:00:00.000  2019-06-08T00:00:00.000           1245   \n",
       "3  190613201  2019-06-08T00:00:00.000  2019-06-08T00:00:00.000           1120   \n",
       "4  191610033  2019-06-08T00:00:00.000  2019-06-08T00:00:00.000           1015   \n",
       "\n",
       "   Area ID    Area Name  Reporting District  Crime Code  \\\n",
       "0       10  West Valley                1009         997   \n",
       "1        7     Wilshire                 762         997   \n",
       "2       20      Olympic                2029         997   \n",
       "3        6    Hollywood                 645         997   \n",
       "4       16     Foothill                1653         997   \n",
       "\n",
       "  Crime Code Description MO Codes                ...                  \\\n",
       "0      TRAFFIC COLLISION      NaN                ...                   \n",
       "1      TRAFFIC COLLISION      NaN                ...                   \n",
       "2      TRAFFIC COLLISION      NaN                ...                   \n",
       "3      TRAFFIC COLLISION      NaN                ...                   \n",
       "4      TRAFFIC COLLISION      NaN                ...                   \n",
       "\n",
       "   Premise Description                          Address  \\\n",
       "0               STREET                           ROSCOE   \n",
       "1               STREET  ALFRED                       ST   \n",
       "2               STREET                         WILSHIRE   \n",
       "3               STREET  HOLLYWOOD                    BL   \n",
       "4               STREET  ARLETA                       AV   \n",
       "\n",
       "                      Cross Street  \\\n",
       "0                          HASKELL   \n",
       "1  PICO                         BL   \n",
       "2                          VERMONT   \n",
       "3  ORANGE                       DR   \n",
       "4  BRANFORD                     ST   \n",
       "\n",
       "                                            Location Zip Codes Census Tracts  \\\n",
       "0  {'human_address': '{\"address\": \"\", \"city\": \"\",...   18914.0         121.0   \n",
       "1  {'human_address': '{\"address\": \"\", \"city\": \"\",...   23666.0         641.0   \n",
       "2  {'human_address': '{\"address\": \"\", \"city\": \"\",...   22726.0         578.0   \n",
       "3  {'human_address': '{\"address\": \"\", \"city\": \"\",...   23446.0         414.0   \n",
       "4  {'human_address': '{\"address\": \"\", \"city\": \"\",...   18907.0          34.0   \n",
       "\n",
       "  Precinct Boundaries LA Specific Plans  Council Districts  \\\n",
       "0               426.0               NaN                2.0   \n",
       "1              1102.0               NaN               12.0   \n",
       "2               684.0               NaN               12.0   \n",
       "3              1303.0               NaN                8.0   \n",
       "4               451.0               NaN                1.0   \n",
       "\n",
       "   Neighborhood Councils (Certified)  \n",
       "0                               88.0  \n",
       "1                               23.0  \n",
       "2                               89.0  \n",
       "3                               82.0  \n",
       "4                               11.0  \n",
       "\n",
       "[5 rows x 24 columns]"
      ]
     },
     "execution_count": 227,
     "metadata": {},
     "output_type": "execute_result"
    }
   ],
   "source": [
    "df.head()"
   ]
  },
  {
   "cell_type": "code",
   "execution_count": 228,
   "metadata": {},
   "outputs": [
    {
     "data": {
      "text/plain": [
       "('2019-06-08T00:00:00.000', '2010-01-01T00:00:00.000')"
      ]
     },
     "execution_count": 228,
     "metadata": {},
     "output_type": "execute_result"
    }
   ],
   "source": [
    "df['Date Reported'].max(),df['Date Reported'].min()"
   ]
  },
  {
   "cell_type": "code",
   "execution_count": 229,
   "metadata": {},
   "outputs": [
    {
     "data": {
      "text/plain": [
       "Index(['DR Number', 'Date Reported', 'Date Occurred', 'Time Occurred',\n",
       "       'Area ID', 'Area Name', 'Reporting District', 'Crime Code',\n",
       "       'Crime Code Description', 'MO Codes', 'Victim Age', 'Victim Sex',\n",
       "       'Victim Descent', 'Premise Code', 'Premise Description', 'Address',\n",
       "       'Cross Street', 'Location', 'Zip Codes', 'Census Tracts',\n",
       "       'Precinct Boundaries', 'LA Specific Plans', 'Council Districts',\n",
       "       'Neighborhood Councils (Certified)'],\n",
       "      dtype='object')"
      ]
     },
     "execution_count": 229,
     "metadata": {},
     "output_type": "execute_result"
    }
   ],
   "source": [
    "df.columns"
   ]
  },
  {
   "cell_type": "code",
   "execution_count": 230,
   "metadata": {},
   "outputs": [],
   "source": [
    "list = ['Location','MO Codes','Census Tracts','Precinct Boundaries','LA Specific Plans','Council Districts','Neighborhood Councils (Certified)','Crime Code Description','Cross Street']"
   ]
  },
  {
   "cell_type": "code",
   "execution_count": 231,
   "metadata": {},
   "outputs": [],
   "source": [
    "df = df.drop(list,axis = 1)"
   ]
  },
  {
   "cell_type": "code",
   "execution_count": 232,
   "metadata": {},
   "outputs": [
    {
     "data": {
      "text/html": [
       "<div>\n",
       "<style scoped>\n",
       "    .dataframe tbody tr th:only-of-type {\n",
       "        vertical-align: middle;\n",
       "    }\n",
       "\n",
       "    .dataframe tbody tr th {\n",
       "        vertical-align: top;\n",
       "    }\n",
       "\n",
       "    .dataframe thead th {\n",
       "        text-align: right;\n",
       "    }\n",
       "</style>\n",
       "<table border=\"1\" class=\"dataframe\">\n",
       "  <thead>\n",
       "    <tr style=\"text-align: right;\">\n",
       "      <th></th>\n",
       "      <th>DR Number</th>\n",
       "      <th>Date Reported</th>\n",
       "      <th>Date Occurred</th>\n",
       "      <th>Time Occurred</th>\n",
       "      <th>Area ID</th>\n",
       "      <th>Area Name</th>\n",
       "      <th>Reporting District</th>\n",
       "      <th>Crime Code</th>\n",
       "      <th>Victim Age</th>\n",
       "      <th>Victim Sex</th>\n",
       "      <th>Victim Descent</th>\n",
       "      <th>Premise Code</th>\n",
       "      <th>Premise Description</th>\n",
       "      <th>Address</th>\n",
       "      <th>Zip Codes</th>\n",
       "    </tr>\n",
       "  </thead>\n",
       "  <tbody>\n",
       "    <tr>\n",
       "      <th>440700</th>\n",
       "      <td>100416272</td>\n",
       "      <td>2010-10-10T00:00:00.000</td>\n",
       "      <td>2010-10-10T00:00:00.000</td>\n",
       "      <td>1725</td>\n",
       "      <td>4</td>\n",
       "      <td>Hollenbeck</td>\n",
       "      <td>464</td>\n",
       "      <td>997</td>\n",
       "      <td>56.0</td>\n",
       "      <td>F</td>\n",
       "      <td>H</td>\n",
       "      <td>101.0</td>\n",
       "      <td>STREET</td>\n",
       "      <td>BREED</td>\n",
       "      <td>23450.0</td>\n",
       "    </tr>\n",
       "  </tbody>\n",
       "</table>\n",
       "</div>"
      ],
      "text/plain": [
       "        DR Number            Date Reported            Date Occurred  \\\n",
       "440700  100416272  2010-10-10T00:00:00.000  2010-10-10T00:00:00.000   \n",
       "\n",
       "        Time Occurred  Area ID   Area Name  Reporting District  Crime Code  \\\n",
       "440700           1725        4  Hollenbeck                 464         997   \n",
       "\n",
       "        Victim Age Victim Sex Victim Descent  Premise Code  \\\n",
       "440700        56.0          F              H         101.0   \n",
       "\n",
       "       Premise Description Address  Zip Codes  \n",
       "440700              STREET   BREED    23450.0  "
      ]
     },
     "execution_count": 232,
     "metadata": {},
     "output_type": "execute_result"
    }
   ],
   "source": [
    "df.sample()"
   ]
  },
  {
   "cell_type": "code",
   "execution_count": 233,
   "metadata": {},
   "outputs": [],
   "source": [
    "#Converting to respective datatypes and placing Null values in empty place so that further conversion for int is easy\n",
    "df['Date Reported'] = pd.to_datetime(df['Date Reported'])\n",
    "df['Date Occurred'] = pd.to_datetime(df['Date Occurred'])\n",
    "df['Victim Age'] = df['Victim Age'].apply(pd.to_numeric,errors = 'coerce')\n",
    "df['Premise Code'] = df['Premise Code'].apply(pd.to_numeric,errors = 'coerce')\n",
    "df['Zip Codes'] = df['Zip Codes'].apply(pd.to_numeric,errors = 'coerce')"
   ]
  },
  {
   "cell_type": "code",
   "execution_count": 234,
   "metadata": {},
   "outputs": [
    {
     "name": "stdout",
     "output_type": "stream",
     "text": [
      "<class 'pandas.core.frame.DataFrame'>\n",
      "RangeIndex: 475227 entries, 0 to 475226\n",
      "Data columns (total 15 columns):\n",
      "DR Number              475227 non-null int64\n",
      "Date Reported          475227 non-null datetime64[ns]\n",
      "Date Occurred          475227 non-null datetime64[ns]\n",
      "Time Occurred          475227 non-null int64\n",
      "Area ID                475227 non-null int64\n",
      "Area Name              475227 non-null object\n",
      "Reporting District     475227 non-null int64\n",
      "Crime Code             475227 non-null int64\n",
      "Victim Age             397821 non-null float64\n",
      "Victim Sex             468300 non-null object\n",
      "Victim Descent         467594 non-null object\n",
      "Premise Code           475202 non-null float64\n",
      "Premise Description    475202 non-null object\n",
      "Address                475227 non-null object\n",
      "Zip Codes              474831 non-null float64\n",
      "dtypes: datetime64[ns](2), float64(3), int64(5), object(5)\n",
      "memory usage: 54.4+ MB\n"
     ]
    }
   ],
   "source": [
    "df.info()"
   ]
  },
  {
   "cell_type": "code",
   "execution_count": 235,
   "metadata": {},
   "outputs": [
    {
     "data": {
      "text/plain": [
       "(474521, 706)"
      ]
     },
     "execution_count": 235,
     "metadata": {},
     "output_type": "execute_result"
    }
   ],
   "source": [
    "# Problem \n",
    "df['DR Number'].nunique(),sum(df['DR Number'].duplicated())"
   ]
  },
  {
   "cell_type": "code",
   "execution_count": 236,
   "metadata": {},
   "outputs": [],
   "source": [
    "# Code\n",
    "df['DR Number'].drop_duplicates(inplace = True)"
   ]
  },
  {
   "cell_type": "code",
   "execution_count": 237,
   "metadata": {},
   "outputs": [
    {
     "data": {
      "text/plain": [
       "(False, 474521)"
      ]
     },
     "execution_count": 237,
     "metadata": {},
     "output_type": "execute_result"
    }
   ],
   "source": [
    "#Check\n",
    "df['DR Number'].duplicated().any(),df['DR Number'].nunique()"
   ]
  },
  {
   "cell_type": "code",
   "execution_count": 238,
   "metadata": {},
   "outputs": [],
   "source": [
    "#Fixing Null Values of Age,Premise Code,Zip Codes with Age mean and Mode of Premise code,Zip Code respectiveliy\n",
    "df['Victim Age'] = df['Victim Age'].fillna(df['Victim Age'].mean())\n",
    "df['Premise Code'] = df['Premise Code'].fillna(df['Premise Code'].mode()[0])\n",
    "df['Zip Codes'] = df['Zip Codes'].fillna(df['Zip Codes'].mode()[0])\n",
    "df['Victim Sex'] = df['Victim Sex'].fillna(df['Victim Sex'].mode()[0])\n",
    "df['Victim Descent'] = df['Victim Descent'].fillna(df['Victim Descent'].mode()[0])\n",
    "df['Premise Description'] = df['Premise Description'].fillna(df['Premise Description'].mode()[0])"
   ]
  },
  {
   "cell_type": "code",
   "execution_count": 239,
   "metadata": {},
   "outputs": [
    {
     "data": {
      "text/plain": [
       "(False, False, False)"
      ]
     },
     "execution_count": 239,
     "metadata": {},
     "output_type": "execute_result"
    }
   ],
   "source": [
    "#Check\n",
    "df['Victim Age'].isnull().any(),df['Premise Code'].isnull().any(),df['Zip Codes'].isnull().any()"
   ]
  },
  {
   "cell_type": "code",
   "execution_count": 240,
   "metadata": {},
   "outputs": [],
   "source": [
    "# Problem - Now fixing Age from Float to Age for clear Visualiztion and for better analysis\n",
    "df['Victim Age'] = df['Victim Age'].astype(int)\n",
    "df['Premise Code'] = df['Premise Code'].astype(int)\n",
    "df['Zip Codes'] = df['Zip Codes'].astype(int)"
   ]
  },
  {
   "cell_type": "code",
   "execution_count": 241,
   "metadata": {},
   "outputs": [
    {
     "name": "stdout",
     "output_type": "stream",
     "text": [
      "<class 'pandas.core.frame.DataFrame'>\n",
      "RangeIndex: 475227 entries, 0 to 475226\n",
      "Data columns (total 15 columns):\n",
      "DR Number              475227 non-null int64\n",
      "Date Reported          475227 non-null datetime64[ns]\n",
      "Date Occurred          475227 non-null datetime64[ns]\n",
      "Time Occurred          475227 non-null int64\n",
      "Area ID                475227 non-null int64\n",
      "Area Name              475227 non-null object\n",
      "Reporting District     475227 non-null int64\n",
      "Crime Code             475227 non-null int64\n",
      "Victim Age             475227 non-null int32\n",
      "Victim Sex             475227 non-null object\n",
      "Victim Descent         475227 non-null object\n",
      "Premise Code           475227 non-null int32\n",
      "Premise Description    475227 non-null object\n",
      "Address                475227 non-null object\n",
      "Zip Codes              475227 non-null int32\n",
      "dtypes: datetime64[ns](2), int32(3), int64(5), object(5)\n",
      "memory usage: 48.9+ MB\n"
     ]
    }
   ],
   "source": [
    "df.info()"
   ]
  },
  {
   "cell_type": "markdown",
   "metadata": {},
   "source": [
    "Data is now well structured to perform analysis."
   ]
  },
  {
   "cell_type": "markdown",
   "metadata": {},
   "source": [
    "# Data Analysis "
   ]
  },
  {
   "cell_type": "markdown",
   "metadata": {},
   "source": [
    "### Univariate Exploratory Data Analysis"
   ]
  },
  {
   "cell_type": "markdown",
   "metadata": {
    "slideshow": {
     "slide_type": "slide"
    }
   },
   "source": [
    "#### 1)At which time accident occurs most"
   ]
  },
  {
   "cell_type": "code",
   "execution_count": 242,
   "metadata": {
    "scrolled": false,
    "slideshow": {
     "slide_type": "fragment"
    }
   },
   "outputs": [
    {
     "data": {
      "image/png": "[encoded data removed]",
      "text/plain": [
       "<Figure size 1000x500 with 1 Axes>"
      ]
     },
     "metadata": {},
     "output_type": "display_data"
    },
    {
     "data": {
      "image/png": "[encoded data removed]",
      "text/plain": [
       "<Figure size 1000x500 with 1 Axes>"
      ]
     },
     "metadata": {},
     "output_type": "display_data"
    }
   ],
   "source": [
    "\n",
    "from matplotlib.pyplot import figure\n",
    "\n",
    "plt.figure(figsize=(10,5),dpi=100)\n",
    "plt.subplot(2,1,1)\n",
    "plt.hist(df['Time Occurred'],rwidth=0.9,bins=40)\n",
    "plt.xticks([1,500,1000,1500,2000,2359],['1:00am','5:00am','10:00am','3:00pm','08:00pm','11:00pm'])\n",
    "plt.xlabel(\"Time Occurred\",fontsize = 10)\n",
    "plt.show()\n",
    "\n",
    "plt.figure(figsize=(10,5),dpi=100)\n",
    "plt.subplot(2,1,2)\n",
    "sb.violinplot(df['Time Occurred'],inner = 'quartile')\n",
    "plt.xticks([1,500,1000,1500,2000,2359],['1:00am','5:00am','10:00am','3:00pm','08:00pm','11:00pm'])\n",
    "plt.xlabel(\"Time Occurred\",fontsize = 10)\n",
    "plt.show()"
   ]
  },
  {
   "cell_type": "code",
   "execution_count": 243,
   "metadata": {},
   "outputs": [
    {
     "data": {
      "text/plain": [
       "1354.7668629938955"
      ]
     },
     "execution_count": 243,
     "metadata": {},
     "output_type": "execute_result"
    }
   ],
   "source": [
    "df['Time Occurred'].mean()"
   ]
  },
  {
   "cell_type": "markdown",
   "metadata": {
    "slideshow": {
     "slide_type": "subslide"
    }
   },
   "source": [
    "#### Conclusion : \n",
    "- Time at which Traffic Accidents Occurs most is between 6:00pm to 7:00 pm\n",
    "- Mean Time at which accident occurs is 1:54pm i.e between 1:00 pm to 2:00 pm. "
   ]
  },
  {
   "cell_type": "markdown",
   "metadata": {
    "slideshow": {
     "slide_type": "slide"
    }
   },
   "source": [
    "#### 2)Area Id in which accident occurs most"
   ]
  },
  {
   "cell_type": "code",
   "execution_count": 244,
   "metadata": {
    "scrolled": true,
    "slideshow": {
     "slide_type": "fragment"
    }
   },
   "outputs": [
    {
     "data": {
      "image/png": "[encoded data removed]",
      "text/plain": [
       "<Figure size 700x300 with 1 Axes>"
      ]
     },
     "metadata": {},
     "output_type": "display_data"
    }
   ],
   "source": [
    "plt.figure(figsize=(7,3),dpi=100)\n",
    "\n",
    "#plotting\n",
    "plt.hist(df['Area ID'],bins=40)\n",
    "plt.xticks([1,2,4,6,8,10,12,14,16,18,20,21])\n",
    "plt.xlabel(\"Area ID\",fontsize = 10)\n",
    "plt.show()"
   ]
  },
  {
   "cell_type": "code",
   "execution_count": 245,
   "metadata": {},
   "outputs": [
    {
     "data": {
      "text/plain": [
       "12    29901\n",
       "3     27884\n",
       "7     27306\n",
       "Name: Area ID, dtype: int64"
      ]
     },
     "execution_count": 245,
     "metadata": {},
     "output_type": "execute_result"
    }
   ],
   "source": [
    "df['Area ID'].value_counts(sort = True)[:3]"
   ]
  },
  {
   "cell_type": "markdown",
   "metadata": {
    "slideshow": {
     "slide_type": "subslide"
    }
   },
   "source": [
    "#### Conclusion :\n",
    "- Top 3 Area ID in which accident occurs most is 12,3,7"
   ]
  },
  {
   "cell_type": "code",
   "execution_count": 246,
   "metadata": {},
   "outputs": [
    {
     "data": {
      "text/plain": [
       "997    475227\n",
       "Name: Crime Code, dtype: int64"
      ]
     },
     "execution_count": 246,
     "metadata": {},
     "output_type": "execute_result"
    }
   ],
   "source": [
    "#Problem :  Since the crime code is similar for all crime commited i.e Traffic Accident delete column Crime Code\n",
    "df['Crime Code'].value_counts()"
   ]
  },
  {
   "cell_type": "code",
   "execution_count": 247,
   "metadata": {},
   "outputs": [],
   "source": [
    "#Code\n",
    "df.drop('Crime Code',inplace = True,axis = 1)"
   ]
  },
  {
   "cell_type": "code",
   "execution_count": 248,
   "metadata": {
    "scrolled": true
   },
   "outputs": [
    {
     "data": {
      "text/plain": [
       "Index(['DR Number', 'Date Reported', 'Date Occurred', 'Time Occurred',\n",
       "       'Area ID', 'Area Name', 'Reporting District', 'Victim Age',\n",
       "       'Victim Sex', 'Victim Descent', 'Premise Code', 'Premise Description',\n",
       "       'Address', 'Zip Codes'],\n",
       "      dtype='object')"
      ]
     },
     "execution_count": 248,
     "metadata": {},
     "output_type": "execute_result"
    }
   ],
   "source": [
    "#Check\n",
    "df.columns"
   ]
  },
  {
   "cell_type": "markdown",
   "metadata": {
    "slideshow": {
     "slide_type": "slide"
    }
   },
   "source": [
    "#### 3)Premise Code Where Accident occured most"
   ]
  },
  {
   "cell_type": "code",
   "execution_count": 249,
   "metadata": {},
   "outputs": [],
   "source": [
    "# Premise Code Where Accident occured most\n",
    "values = df['Premise Code'].value_counts().keys().tolist()\n",
    "counts = df['Premise Code'].value_counts().tolist()"
   ]
  },
  {
   "cell_type": "code",
   "execution_count": 250,
   "metadata": {},
   "outputs": [
    {
     "data": {
      "text/plain": [
       "(453303, 1)"
      ]
     },
     "execution_count": 250,
     "metadata": {},
     "output_type": "execute_result"
    }
   ],
   "source": [
    "# To find Area Code where Accident occured most we have to check counts  maximum and minimum counts of \n",
    "# area code since the data is all about Traffic collision .\n",
    "max(counts),min(counts)"
   ]
  },
  {
   "cell_type": "code",
   "execution_count": 251,
   "metadata": {
    "slideshow": {
     "slide_type": "slide"
    }
   },
   "outputs": [
    {
     "data": {
      "text/plain": [
       "101    453303\n",
       "108     15396\n",
       "102      2374\n",
       "Name: Premise Code, dtype: int64"
      ]
     },
     "execution_count": 251,
     "metadata": {},
     "output_type": "execute_result"
    }
   ],
   "source": [
    "#Checking the area code of maximum code \n",
    "df['Premise Code'].value_counts(sort = True)[:3]"
   ]
  },
  {
   "cell_type": "markdown",
   "metadata": {
    "slideshow": {
     "slide_type": "subslide"
    }
   },
   "source": [
    "#### Conclusion:\n",
    "- Top 3 Premise Code in which accident occurs most is 101,108,102\n"
   ]
  },
  {
   "cell_type": "markdown",
   "metadata": {
    "slideshow": {
     "slide_type": "slide"
    }
   },
   "source": [
    "#### 4)Top Reporting District"
   ]
  },
  {
   "cell_type": "code",
   "execution_count": 252,
   "metadata": {
    "scrolled": true,
    "slideshow": {
     "slide_type": "fragment"
    }
   },
   "outputs": [
    {
     "data": {
      "image/png": "[encoded data removed]",
      "text/plain": [
       "<Figure size 1000x500 with 1 Axes>"
      ]
     },
     "metadata": {},
     "output_type": "display_data"
    }
   ],
   "source": [
    "plt.figure(figsize=(10,5),dpi=100)\n",
    "plt.subplot(2,1,1)\n",
    "plt.hist(df['Reporting District'],rwidth=0.9,bins=40)\n",
    "plt.xticks([50,200,400,600,800,1000,1200,1400,1600,1800,2000,2200],['50','200','400','600','800','1000','1200','1400','1600','1800','2000','2200'])\n",
    "plt.title(\"Reporting District\");\n",
    "plt.show()"
   ]
  },
  {
   "attachments": {
    "Capture2.JPG": {
     "image/jpeg": "[encoded data removed]"
    },
    "LAPD.JPG": {
     "image/jpeg": "[encoded data removed]"
    }
   },
   "cell_type": "markdown",
   "metadata": {
    "slideshow": {
     "slide_type": "subslide"
    }
   },
   "source": [
    "#### Conclusion\n",
    "- Reporting District - 645 has Maximum Reporting having count 2260.\n",
    "#### More Detail about the district 645.\n",
    "![LAPD.JPG](attachment:LAPD.JPG)\n",
    "#### Location of Reporting District 645 In Los Angelos\n",
    "![Capture2.JPG](attachment:Capture2.JPG)\n",
    "\n",
    "####  Refrence : http://geohub.lacity.org/datasets/lapd-reporting-districts/data?geometry=-119.056%2C33.773%2C-116.938%2C34.568"
   ]
  },
  {
   "cell_type": "markdown",
   "metadata": {
    "slideshow": {
     "slide_type": "slide"
    }
   },
   "source": [
    "### 5)Who are the most victims whether  Males or Females?\n",
    "- Note: X- Uknown"
   ]
  },
  {
   "cell_type": "code",
   "execution_count": 253,
   "metadata": {
    "scrolled": true,
    "slideshow": {
     "slide_type": "skip"
    }
   },
   "outputs": [
    {
     "data": {
      "text/plain": [
       "M    59.821096\n",
       "F    37.897889\n",
       "X     2.249662\n",
       "H     0.029039\n",
       "N     0.002315\n",
       "Name: Victim Sex, dtype: float64"
      ]
     },
     "execution_count": 253,
     "metadata": {},
     "output_type": "execute_result"
    }
   ],
   "source": [
    "df['Victim Sex'].value_counts()* 100 / df.shape[0]"
   ]
  },
  {
   "cell_type": "code",
   "execution_count": 254,
   "metadata": {
    "scrolled": true,
    "slideshow": {
     "slide_type": "fragment"
    }
   },
   "outputs": [
    {
     "data": {
      "image/png": "[encoded data removed]",
      "text/plain": [
       "<Figure size 1000x500 with 1 Axes>"
      ]
     },
     "metadata": {},
     "output_type": "display_data"
    },
    {
     "data": {
      "image/png": "[encoded data removed]",
      "text/plain": [
       "<Figure size 1000x500 with 1 Axes>"
      ]
     },
     "metadata": {},
     "output_type": "display_data"
    }
   ],
   "source": [
    "#Visualization\n",
    "\n",
    "#plotting\n",
    "\n",
    "plt.figure(figsize=(10,5),dpi=100)\n",
    "plt.subplot(1,2,1)\n",
    "sb.countplot(y = df['Victim Sex'],facecolor=(0, 0, 0, 0),linewidth=5,edgecolor=sb.color_palette(\"dark\", 5),order = df['Victim Sex'].value_counts().index[:3])\n",
    "plt.title(\"Victim Sexwise\");\n",
    "\n",
    "plt.figure(figsize=(10,5),dpi=100)\n",
    "plt.subplot(1,2,2)\n",
    "sorted_counts = df['Victim Sex'].value_counts()\n",
    "plt.pie(sorted_counts,labels = sorted_counts.index ,startangle = 90 , counterclock = False , wedgeprops ={'width' : 0.4});\n",
    "plt.title(\"Victim Sexwise\");\n",
    "\n"
   ]
  },
  {
   "cell_type": "markdown",
   "metadata": {
    "slideshow": {
     "slide_type": "subslide"
    }
   },
   "source": [
    "#### Conclusion :\n",
    "- Most victim were male and then females."
   ]
  },
  {
   "cell_type": "markdown",
   "metadata": {
    "slideshow": {
     "slide_type": "slide"
    }
   },
   "source": [
    "#### 6)Victim Descent\n",
    "- A - Other Asian ,B - Black, C - Chinese ,D - Cambodian ,F - Filipino, G - Guamanian ,H - Hispanic/Latin/Mexican, I - American Indian/Alaskan Native, J - Japanese ,K - Korean ,L - Laotian, O - Other ,P - Pacific Islander, S - Samoan, U - Hawaiian, V - Vietnamese, W - White, X - Unknown, Z - Asian Indian"
   ]
  },
  {
   "cell_type": "code",
   "execution_count": 255,
   "metadata": {
    "slideshow": {
     "slide_type": "slide"
    }
   },
   "outputs": [
    {
     "data": {
      "text/plain": [
       "H    38.408592\n",
       "W    23.876169\n",
       "O    14.895408\n",
       "B    13.045134\n",
       "X     4.490275\n",
       "A     3.757783\n",
       "K     0.806562\n",
       "F     0.293965\n",
       "C     0.144352\n",
       "U     0.073649\n",
       "J     0.056815\n",
       "V     0.038297\n",
       "P     0.037877\n",
       "I     0.030091\n",
       "Z     0.025882\n",
       "G     0.008207\n",
       "S     0.006523\n",
       "D     0.003156\n",
       "L     0.000842\n",
       "-     0.000421\n",
       "Name: Victim Descent, dtype: float64"
      ]
     },
     "execution_count": 255,
     "metadata": {},
     "output_type": "execute_result"
    }
   ],
   "source": [
    "df['Victim Descent'].value_counts() * 100 / df.shape[0] "
   ]
  },
  {
   "cell_type": "code",
   "execution_count": 256,
   "metadata": {
    "scrolled": true,
    "slideshow": {
     "slide_type": "fragment"
    }
   },
   "outputs": [
    {
     "data": {
      "image/png": "[encoded data removed]",
      "text/plain": [
       "<Figure size 800x300 with 1 Axes>"
      ]
     },
     "metadata": {},
     "output_type": "display_data"
    }
   ],
   "source": [
    "#Visualization for V\n",
    "plt.figure(figsize=(8,3),dpi=100)\n",
    "\n",
    "#plotting\n",
    "ax = sb.countplot(y = df['Victim Descent'],facecolor=(0, 0, 0, 0),linewidth=4,edgecolor=sb.color_palette(\"dark\", 4), order = df['Victim Descent'].value_counts().index[:5])\n",
    "labels = ['Hispanic/Latin/Mexican','White','Other','Black','Unknown']\n",
    "ax.set_yticklabels(labels)\n",
    "plt.title(\"Count of Victim Descent\");\n",
    "plt.show()"
   ]
  },
  {
   "cell_type": "markdown",
   "metadata": {
    "slideshow": {
     "slide_type": "subslide"
    }
   },
   "source": [
    "#### Conclusions:\n",
    "- Top Victim Descent which more effected are Hispanic/Latin/Mexican,White,Other,Black,Unknown."
   ]
  },
  {
   "cell_type": "markdown",
   "metadata": {
    "slideshow": {
     "slide_type": "slide"
    }
   },
   "source": [
    "#### 7)Zip Codes of cities which has max and min Traffic Accident "
   ]
  },
  {
   "cell_type": "code",
   "execution_count": 257,
   "metadata": {
    "slideshow": {
     "slide_type": "subslide"
    }
   },
   "outputs": [
    {
     "data": {
      "text/plain": [
       "23675    10577\n",
       "23668    10114\n",
       "22727    10080\n",
       "23446     9974\n",
       "22352     9934\n",
       "Name: Zip Codes, dtype: int64"
      ]
     },
     "execution_count": 257,
     "metadata": {},
     "output_type": "execute_result"
    }
   ],
   "source": [
    "df['Zip Codes'].value_counts(sort = True)[:5]"
   ]
  },
  {
   "cell_type": "code",
   "execution_count": 258,
   "metadata": {
    "slideshow": {
     "slide_type": "fragment"
    }
   },
   "outputs": [
    {
     "data": {
      "image/png": "[encoded data removed]",
      "text/plain": [
       "<Figure size 432x288 with 1 Axes>"
      ]
     },
     "metadata": {},
     "output_type": "display_data"
    }
   ],
   "source": [
    "base_color = sb.color_palette()[0]\n",
    "sb.countplot(y= df['Zip Codes'],color = base_color, order = df['Zip Codes'].value_counts().index[:5])\n",
    "plt.title(\"Zip code of the places where accidents are \");"
   ]
  },
  {
   "cell_type": "markdown",
   "metadata": {
    "slideshow": {
     "slide_type": "subslide"
    }
   },
   "source": [
    "#### Conclusion : \n",
    "- Top Zip Codes in which there were maximum Traffic accidents are 23675,23668,23446,22352 "
   ]
  },
  {
   "cell_type": "markdown",
   "metadata": {
    "slideshow": {
     "slide_type": "slide"
    }
   },
   "source": [
    "#### 8)Top  Premise Description were accident occurred most"
   ]
  },
  {
   "cell_type": "code",
   "execution_count": 259,
   "metadata": {
    "slideshow": {
     "slide_type": "slide"
    }
   },
   "outputs": [
    {
     "data": {
      "text/plain": [
       "STREET         95.386626\n",
       "PARKING LOT     3.239715\n",
       "SIDEWALK        0.499551\n",
       "ALLEY           0.173601\n",
       "DRIVEWAY        0.169182\n",
       "Name: Premise Description, dtype: float64"
      ]
     },
     "execution_count": 259,
     "metadata": {},
     "output_type": "execute_result"
    }
   ],
   "source": [
    "#Top Traffic Accident Premise Description\n",
    "df['Premise Description'].value_counts()[:5] * 100 / df['Premise Description'].shape[0]"
   ]
  },
  {
   "cell_type": "code",
   "execution_count": 260,
   "metadata": {
    "scrolled": true,
    "slideshow": {
     "slide_type": "fragment"
    }
   },
   "outputs": [
    {
     "data": {
      "image/png": "[encoded data removed]",
      "text/plain": [
       "<Figure size 700x300 with 1 Axes>"
      ]
     },
     "metadata": {},
     "output_type": "display_data"
    }
   ],
   "source": [
    "#Visualization for Top Traffic Accident Premise Description\n",
    "plt.figure(figsize=(7,3),dpi=100)\n",
    "\n",
    "#plotting\n",
    "ax = sb.countplot(y= df['Premise Description'],facecolor=(0, 0, 0, 0),linewidth=4,edgecolor=sb.color_palette(\"dark\", 4), order = df['Premise Description'].value_counts().index[:5])\n",
    "plt.title(\"Premise Description in which accidents occurs most\")\n",
    "plt.show()"
   ]
  },
  {
   "cell_type": "markdown",
   "metadata": {
    "slideshow": {
     "slide_type": "subslide"
    }
   },
   "source": [
    "#### Conclusions :\n",
    "- Top Premises were accident occurs most are Street,Parking Lot,Sidewalk,Alley and in Driveway"
   ]
  },
  {
   "cell_type": "markdown",
   "metadata": {
    "slideshow": {
     "slide_type": "slide"
    }
   },
   "source": [
    "#### 9) Year in which accident occured most? \n",
    "- Note : In the year 2019 record is uptil 08-june-2019 "
   ]
  },
  {
   "cell_type": "code",
   "execution_count": 261,
   "metadata": {
    "scrolled": false,
    "slideshow": {
     "slide_type": "fragment"
    }
   },
   "outputs": [
    {
     "data": {
      "text/plain": [
       "Text(0.5,1,'Yearwise Traffic Accidents')"
      ]
     },
     "execution_count": 261,
     "metadata": {},
     "output_type": "execute_result"
    },
    {
     "data": {
      "image/png": "[encoded data removed]",
      "text/plain": [
       "<Figure size 800x300 with 1 Axes>"
      ]
     },
     "metadata": {},
     "output_type": "display_data"
    }
   ],
   "source": [
    "plt.figure(figsize=(8,3),dpi=100)\n",
    "\n",
    "#plotting\n",
    "ax = sb.countplot( df['Date Occurred'].dt.year,facecolor=(0, 0, 0, 0),linewidth=4,edgecolor=sb.color_palette(\"dark\", 10), order = df['Date Occurred'].dt.year.value_counts().index[:])\n",
    "plt.title(\"Yearwise Traffic Accidents\")"
   ]
  },
  {
   "cell_type": "markdown",
   "metadata": {
    "slideshow": {
     "slide_type": "subslide"
    }
   },
   "source": [
    "#### Conclusion : \n",
    "- In the year 2017 and 2018 there where maximum accidents"
   ]
  },
  {
   "cell_type": "markdown",
   "metadata": {
    "slideshow": {
     "slide_type": "slide"
    }
   },
   "source": [
    "#### 10) In which month accident occured more ?"
   ]
  },
  {
   "cell_type": "code",
   "execution_count": 262,
   "metadata": {
    "slideshow": {
     "slide_type": "fragment"
    }
   },
   "outputs": [
    {
     "data": {
      "text/plain": [
       "Text(0.5,1,'Count of Month in which accident occured')"
      ]
     },
     "execution_count": 262,
     "metadata": {},
     "output_type": "execute_result"
    },
    {
     "data": {
      "image/png": "[encoded data removed]",
      "text/plain": [
       "<Figure size 800x300 with 1 Axes>"
      ]
     },
     "metadata": {},
     "output_type": "display_data"
    }
   ],
   "source": [
    "plt.figure(figsize=(8,3),dpi=100)\n",
    "\n",
    "#plotting\n",
    "base_color = sb.color_palette()[0]\n",
    "ax = sb.countplot( df['Date Occurred'].dt.month,color = base_color, order = df['Date Occurred'].dt.month.value_counts().index[:])\n",
    "plt.xticks([0,1,2,3,4,5,6,7,8,9,10,11],['March','May','April','October','January','August','February','December','September','June','November','July'],rotation = 90);\n",
    "plt.title(\"Count of Month in which accident occured\")"
   ]
  },
  {
   "cell_type": "markdown",
   "metadata": {
    "slideshow": {
     "slide_type": "subslide"
    }
   },
   "source": [
    "#### Conclusion :\n",
    "- March,May,April are the month in which accident occure most"
   ]
  },
  {
   "cell_type": "markdown",
   "metadata": {
    "slideshow": {
     "slide_type": "slide"
    }
   },
   "source": [
    "## Bivariate Exploratory Data Analysis"
   ]
  },
  {
   "cell_type": "markdown",
   "metadata": {
    "slideshow": {
     "slide_type": "slide"
    }
   },
   "source": [
    "#### 11) Victim Age vs  Victim Sex"
   ]
  },
  {
   "cell_type": "code",
   "execution_count": 263,
   "metadata": {
    "slideshow": {
     "slide_type": "fragment"
    }
   },
   "outputs": [
    {
     "data": {
      "text/plain": [
       "Text(0.5,1,'Victim Sex Vs Victim Age')"
      ]
     },
     "execution_count": 263,
     "metadata": {},
     "output_type": "execute_result"
    },
    {
     "data": {
      "image/png": "[encoded data removed]",
      "text/plain": [
       "<Figure size 432x288 with 1 Axes>"
      ]
     },
     "metadata": {},
     "output_type": "display_data"
    }
   ],
   "source": [
    "# Victim Sex Vs Vicim Age\n",
    "base_color = sb.color_palette()[0]\n",
    "sb.boxplot(data = df , x = \"Victim Sex\" , y =\"Victim Age\" , color = base_color,order = df['Victim Sex'].value_counts().index[:3]);\n",
    "plt.title('Victim Sex Vs Victim Age')"
   ]
  },
  {
   "cell_type": "markdown",
   "metadata": {
    "slideshow": {
     "slide_type": "subslide"
    }
   },
   "source": [
    "#### Conclusion : \n",
    "- Male which had accident have mean of age 42 years while female which had accident have mean age of 40years"
   ]
  },
  {
   "cell_type": "code",
   "execution_count": 264,
   "metadata": {},
   "outputs": [
    {
     "data": {
      "text/plain": [
       "40.49360636531724"
      ]
     },
     "execution_count": 264,
     "metadata": {},
     "output_type": "execute_result"
    }
   ],
   "source": [
    "df[df['Victim Sex'] == \"F\"]['Victim Age'].mean()"
   ]
  },
  {
   "cell_type": "markdown",
   "metadata": {
    "slideshow": {
     "slide_type": "slide"
    }
   },
   "source": [
    "#### 12)Victim Descent Vs Victiim Age"
   ]
  },
  {
   "cell_type": "code",
   "execution_count": 267,
   "metadata": {
    "slideshow": {
     "slide_type": "fragment"
    }
   },
   "outputs": [
    {
     "data": {
      "image/png": "[encoded data removed]",
      "text/plain": [
       "<Figure size 432x288 with 1 Axes>"
      ]
     },
     "metadata": {},
     "output_type": "display_data"
    }
   ],
   "source": [
    "base_color = sb.color_palette()[0]\n",
    "sb.violinplot(data = df , x = \"Victim Descent\" , y =\"Victim Age\" , color = base_color,order = df['Victim Descent'].value_counts().index[:3],inner = \"quartile\");\n",
    "plt.title(\"Age wise Descent\");"
   ]
  },
  {
   "cell_type": "code",
   "execution_count": 268,
   "metadata": {
    "slideshow": {
     "slide_type": "subslide"
    }
   },
   "outputs": [
    {
     "data": {
      "text/plain": [
       "(38.99149171633941, 43.2626513669293, 43.84782516563776)"
      ]
     },
     "execution_count": 268,
     "metadata": {},
     "output_type": "execute_result"
    }
   ],
   "source": [
    "df[df['Victim Descent'] == 'H']['Victim Age'].mean(),df[df['Victim Descent'] == 'W']['Victim Age'].mean(),df[df['Victim Descent'] == 'O']['Victim Age'].mean()"
   ]
  },
  {
   "cell_type": "markdown",
   "metadata": {
    "slideshow": {
     "slide_type": "subslide"
    }
   },
   "source": [
    "#### Conclusion\n",
    "- Victim Descent - H have mean age pf 39, W has mean age of 43,O has mean age of 44"
   ]
  },
  {
   "cell_type": "markdown",
   "metadata": {
    "slideshow": {
     "slide_type": "notes"
    }
   },
   "source": [
    "## Findings : \n",
    "- Time at which Traffic Accidents Occurs most is between 6:00pm to 7:00 pm\n",
    "- Mean Time at which accident occurs is 1:54pm i.e between 1:00 pm to 2:00 pm. \n",
    "- Top 3 Area ID in which accident occurs most is 12,3,7.\n",
    "- Top 3 Premise Code in which accident occurs most is 101,108,102.\n",
    "- Reporting District - 645 has Maximum Reporting having count 2260.\n",
    "- Most victim were male and then females.\n",
    "- Top Victim Descent which more effected are Hispanic/Latin/Mexican,White,Other,Black,Unknown.\n",
    "- Top Zip Codes in which there were maximum Traffic accidents are 23675,23668,23446,22352 \n",
    "- Top Premises were accident occurs most are Street,Parking Lot,Sidewalk,Alley and in Driveway\n",
    "- In the year 2017 and 2018 there where maximum accidents\n",
    "- March,May,April are the month in which accident occure most\n",
    "- Victim Descent - H have mean age pf 39, W has mean age of 43,O has mean age of 44"
   ]
  }
 ],
 "metadata": {
  "celltoolbar": "Slideshow",
  "kernelspec": {
   "display_name": "Python [conda env:Anaconda3]",
   "language": "python",
   "name": "conda-env-Anaconda3-py"
  }
 },
 "nbformat": 4,
 "nbformat_minor": 2
}
